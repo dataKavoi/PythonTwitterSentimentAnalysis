{
  "nbformat": 4,
  "nbformat_minor": 0,
  "metadata": {
    "colab": {
      "name": "Untitled0.ipynb",
      "provenance": [],
      "collapsed_sections": [],
      "authorship_tag": "ABX9TyMW7Yh57Vy/87Zd9GHl/ldm",
      "include_colab_link": true
    },
    "kernelspec": {
      "name": "python3",
      "display_name": "Python 3"
    },
    "language_info": {
      "name": "python"
    }
  },
  "cells": [
    {
      "cell_type": "markdown",
      "metadata": {
        "id": "view-in-github",
        "colab_type": "text"
      },
      "source": [
        "<a href=\"https://colab.research.google.com/github/dataKavoi/PythonTwitterSentimentAnalysis/blob/main/Untitled0.ipynb\" target=\"_parent\"><img src=\"https://colab.research.google.com/assets/colab-badge.svg\" alt=\"Open In Colab\"/></a>"
      ]
    },
    {
      "cell_type": "markdown",
      "source": [
        "Twitter Sentiment Analysis Using Search Terms; GK Nyambura and Omoke"
      ],
      "metadata": {
        "id": "_2WY1bx28Mxj"
      }
    },
    {
      "cell_type": "code",
      "source": [
        "# Make libraries available for use\n",
        "import tweepy\n",
        "from tweepy import OAuthHandler, Stream\n",
        "from textblob import TextBlob\n",
        "import pandas as pd\n",
        "import matplotlib.pyplot as plt"
      ],
      "metadata": {
        "id": "EY4mPPb68XBx"
      },
      "execution_count": null,
      "outputs": []
    },
    {
      "cell_type": "code",
      "execution_count": null,
      "metadata": {
        "id": "6gwdBu7U7tg-"
      },
      "outputs": [],
      "source": [
        "# Twitter API Credentials\n",
        "client = tweepy.Client(\n",
        "    consumer_key=\"TscJ5AzzKhYDsStIrfWZOtfcj\",\n",
        "    consumer_secret=\"VFAR9f0z0TJqoidVXTk8V0LIMFzg1smT0YinPjWOZNLBTfC92P\",\n",
        "    access_token=\"2991667581-KeUwN8xah5AfZrlcuSFw9CgHWmpIYvEZT1hZ0Vv\",\n",
        "    access_token_secret=\"6wQ3WLMwiirm1WaG71WRIYZ6pZtNf4r9F4fhfwcrPQUxx\"\n",
        ")"
      ]
    },
    {
      "cell_type": "code",
      "source": [
        "# Create Authentication object\n",
        "class Listener(tweepy.Stream):\n",
        "\n",
        "    def on_data(self, data):\n",
        "        print(data)\n",
        "        return True\n",
        "\n",
        "    def on_error(self, status):\n",
        "        print(status)\n",
        "\n",
        "if __name__ == '__main__':\n",
        "    # This handles Twitter authentication and connection to Twitter Streaming API\n",
        "    auth = OAuthHandler(consumer_key, consumer_secret)\n",
        "    auth.set_access_token(access_token, access_token_secret)\n",
        "    stream = Stream(auth, Listener())\n",
        "    stream.filter(track=['gk nyambura', 'omoke'])"
      ],
      "metadata": {
        "colab": {
          "base_uri": "https://localhost:8080/",
          "height": 241
        },
        "id": "WJYcbHBm9Fyp",
        "outputId": "89c16c33-fa9d-4703-dc0f-97eee3c1749a"
      },
      "execution_count": null,
      "outputs": [
        {
          "output_type": "error",
          "ename": "NameError",
          "evalue": "ignored",
          "traceback": [
            "\u001b[0;31m---------------------------------------------------------------------------\u001b[0m",
            "\u001b[0;31mNameError\u001b[0m                                 Traceback (most recent call last)",
            "\u001b[0;32m<ipython-input-1-49da1a26895b>\u001b[0m in \u001b[0;36m<module>\u001b[0;34m()\u001b[0m\n\u001b[1;32m      1\u001b[0m \u001b[0;31m# Create Authentication object\u001b[0m\u001b[0;34m\u001b[0m\u001b[0;34m\u001b[0m\u001b[0;34m\u001b[0m\u001b[0m\n\u001b[0;32m----> 2\u001b[0;31m \u001b[0;32mclass\u001b[0m \u001b[0mListener\u001b[0m\u001b[0;34m(\u001b[0m\u001b[0mtweepy\u001b[0m\u001b[0;34m.\u001b[0m\u001b[0mStream\u001b[0m\u001b[0;34m)\u001b[0m\u001b[0;34m:\u001b[0m\u001b[0;34m\u001b[0m\u001b[0;34m\u001b[0m\u001b[0m\n\u001b[0m\u001b[1;32m      3\u001b[0m \u001b[0;34m\u001b[0m\u001b[0m\n\u001b[1;32m      4\u001b[0m     \u001b[0;32mdef\u001b[0m \u001b[0mon_data\u001b[0m\u001b[0;34m(\u001b[0m\u001b[0mself\u001b[0m\u001b[0;34m,\u001b[0m \u001b[0mdata\u001b[0m\u001b[0;34m)\u001b[0m\u001b[0;34m:\u001b[0m\u001b[0;34m\u001b[0m\u001b[0;34m\u001b[0m\u001b[0m\n\u001b[1;32m      5\u001b[0m         \u001b[0mprint\u001b[0m\u001b[0;34m(\u001b[0m\u001b[0mdata\u001b[0m\u001b[0;34m)\u001b[0m\u001b[0;34m\u001b[0m\u001b[0;34m\u001b[0m\u001b[0m\n",
            "\u001b[0;31mNameError\u001b[0m: name 'tweepy' is not defined"
          ]
        }
      ]
    }
  ]
}